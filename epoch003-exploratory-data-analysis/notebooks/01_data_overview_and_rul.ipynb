{
 "cells": [
  {
   "cell_type": "markdown",
   "metadata": {},
   "source": [
    "# Notebook 01: Data Overview and RUL Analysis\n",
    "## Epoch 003: Exploratory Data Analysis\n",
    "### Preventative Maintenance - NASA Turbofan Dataset\n",
    "\n",
    "This notebook provides an overview of the NASA Turbofan FD001 dataset and analyzes the Remaining Useful Life (RUL) target variable."
   ]
  },
  {
   "cell_type": "code",
   "execution_count": 1,
   "metadata": {},
   "outputs": [
    {
     "name": "stdout",
     "output_type": "stream",
     "text": [
      "Libraries imported successfully\n"
     ]
    }
   ],
   "source": [
    "# Import libraries\n",
    "import pandas as pd\n",
    "import numpy as np\n",
    "import matplotlib.pyplot as plt\n",
    "import seaborn as sns\n",
    "import sys\n",
    "from pathlib import Path\n",
    "\n",
    "# Add utilities to path\n",
    "sys.path.insert(0, '/mnt/code/src')\n",
    "from predictive_maintenance.data_utils import load_turbofan_data, calculate_rul\n",
    "\n",
    "# Configure plotting\n",
    "plt.style.use('seaborn-v0_8-whitegrid')\n",
    "sns.set_palette('husl')\n",
    "%matplotlib inline\n",
    "\n",
    "print('Libraries imported successfully')"
   ]
  },
  {
   "cell_type": "markdown",
   "metadata": {},
   "source": [
    "## 1. Load Dataset"
   ]
  },
  {
   "cell_type": "code",
   "execution_count": 2,
   "metadata": {},
   "outputs": [
    {
     "name": "stdout",
     "output_type": "stream",
     "text": [
      "Dataset loaded: 24,453 rows × 26 columns\n",
      "Number of engines: 100\n",
      "Time cycles range: 1 to 355\n"
     ]
    }
   ],
   "source": [
    "# Load data\n",
    "DATA_PATH = Path('/mnt/data/Preventative-Maintainance-Example/epoch002-data-wrangling')\n",
    "df = load_turbofan_data(DATA_PATH / 'fd001_train.parquet')\n",
    "\n",
    "print(f'Dataset loaded: {df.shape[0]:,} rows × {df.shape[1]} columns')\n",
    "print(f'Number of engines: {df[\"unit_id\"].nunique()}')\n",
    "print(f'Time cycles range: {df[\"time_cycles\"].min()} to {df[\"time_cycles\"].max()}')"
   ]
  },
  {
   "cell_type": "markdown",
   "metadata": {},
   "source": [
    "## 2. Dataset Structure"
   ]
  },
  {
   "cell_type": "code",
   "execution_count": 3,
   "metadata": {},
   "outputs": [
    {
     "data": {
      "text/html": [
       "<div>\n",
       "<style scoped>\n",
       "    .dataframe tbody tr th:only-of-type {\n",
       "        vertical-align: middle;\n",
       "    }\n",
       "\n",
       "    .dataframe tbody tr th {\n",
       "        vertical-align: top;\n",
       "    }\n",
       "\n",
       "    .dataframe thead th {\n",
       "        text-align: right;\n",
       "    }\n",
       "</style>\n",
       "<table border=\"1\" class=\"dataframe\">\n",
       "  <thead>\n",
       "    <tr style=\"text-align: right;\">\n",
       "      <th></th>\n",
       "      <th>unit_id</th>\n",
       "      <th>time_cycles</th>\n",
       "      <th>op_setting_1</th>\n",
       "      <th>op_setting_2</th>\n",
       "      <th>op_setting_3</th>\n",
       "      <th>sensor_1</th>\n",
       "      <th>sensor_2</th>\n",
       "      <th>sensor_3</th>\n",
       "      <th>sensor_4</th>\n",
       "      <th>sensor_5</th>\n",
       "      <th>...</th>\n",
       "      <th>sensor_12</th>\n",
       "      <th>sensor_13</th>\n",
       "      <th>sensor_14</th>\n",
       "      <th>sensor_15</th>\n",
       "      <th>sensor_16</th>\n",
       "      <th>sensor_17</th>\n",
       "      <th>sensor_18</th>\n",
       "      <th>sensor_19</th>\n",
       "      <th>sensor_20</th>\n",
       "      <th>sensor_21</th>\n",
       "    </tr>\n",
       "  </thead>\n",
       "  <tbody>\n",
       "    <tr>\n",
       "      <th>0</th>\n",
       "      <td>1</td>\n",
       "      <td>1</td>\n",
       "      <td>0.0</td>\n",
       "      <td>0.0006</td>\n",
       "      <td>100.0</td>\n",
       "      <td>513.300461</td>\n",
       "      <td>648.854883</td>\n",
       "      <td>1605.802692</td>\n",
       "      <td>1439.846460</td>\n",
       "      <td>14.361455</td>\n",
       "      <td>...</td>\n",
       "      <td>520.335945</td>\n",
       "      <td>2390.638728</td>\n",
       "      <td>8074.294916</td>\n",
       "      <td>8.335438</td>\n",
       "      <td>0.029949</td>\n",
       "      <td>393.996751</td>\n",
       "      <td>2352.878834</td>\n",
       "      <td>100.350147</td>\n",
       "      <td>38.858412</td>\n",
       "      <td>23.965575</td>\n",
       "    </tr>\n",
       "    <tr>\n",
       "      <th>1</th>\n",
       "      <td>1</td>\n",
       "      <td>2</td>\n",
       "      <td>0.0</td>\n",
       "      <td>0.0006</td>\n",
       "      <td>100.0</td>\n",
       "      <td>518.259959</td>\n",
       "      <td>635.916470</td>\n",
       "      <td>1652.588172</td>\n",
       "      <td>1345.654400</td>\n",
       "      <td>14.966389</td>\n",
       "      <td>...</td>\n",
       "      <td>528.246794</td>\n",
       "      <td>2357.489830</td>\n",
       "      <td>7924.945104</td>\n",
       "      <td>8.371021</td>\n",
       "      <td>0.029762</td>\n",
       "      <td>393.033897</td>\n",
       "      <td>2382.695379</td>\n",
       "      <td>102.532220</td>\n",
       "      <td>39.453483</td>\n",
       "      <td>23.369159</td>\n",
       "    </tr>\n",
       "    <tr>\n",
       "      <th>2</th>\n",
       "      <td>1</td>\n",
       "      <td>3</td>\n",
       "      <td>0.0</td>\n",
       "      <td>0.0006</td>\n",
       "      <td>100.0</td>\n",
       "      <td>510.274180</td>\n",
       "      <td>658.333410</td>\n",
       "      <td>1617.785491</td>\n",
       "      <td>1477.740459</td>\n",
       "      <td>14.725648</td>\n",
       "      <td>...</td>\n",
       "      <td>517.325013</td>\n",
       "      <td>2390.612878</td>\n",
       "      <td>8109.731997</td>\n",
       "      <td>8.172768</td>\n",
       "      <td>0.029581</td>\n",
       "      <td>400.062738</td>\n",
       "      <td>2425.042345</td>\n",
       "      <td>101.592533</td>\n",
       "      <td>39.070954</td>\n",
       "      <td>23.775021</td>\n",
       "    </tr>\n",
       "    <tr>\n",
       "      <th>3</th>\n",
       "      <td>1</td>\n",
       "      <td>4</td>\n",
       "      <td>0.0</td>\n",
       "      <td>0.0006</td>\n",
       "      <td>100.0</td>\n",
       "      <td>522.524309</td>\n",
       "      <td>641.335165</td>\n",
       "      <td>1630.879698</td>\n",
       "      <td>1397.369855</td>\n",
       "      <td>14.433088</td>\n",
       "      <td>...</td>\n",
       "      <td>513.278718</td>\n",
       "      <td>2431.703714</td>\n",
       "      <td>8059.766380</td>\n",
       "      <td>8.497520</td>\n",
       "      <td>0.029250</td>\n",
       "      <td>390.821087</td>\n",
       "      <td>2391.372693</td>\n",
       "      <td>102.183217</td>\n",
       "      <td>40.355889</td>\n",
       "      <td>23.752076</td>\n",
       "    </tr>\n",
       "    <tr>\n",
       "      <th>4</th>\n",
       "      <td>1</td>\n",
       "      <td>5</td>\n",
       "      <td>0.0</td>\n",
       "      <td>0.0006</td>\n",
       "      <td>100.0</td>\n",
       "      <td>523.448962</td>\n",
       "      <td>630.715586</td>\n",
       "      <td>1549.780948</td>\n",
       "      <td>1410.498894</td>\n",
       "      <td>14.707368</td>\n",
       "      <td>...</td>\n",
       "      <td>513.393745</td>\n",
       "      <td>2375.997697</td>\n",
       "      <td>7937.482568</td>\n",
       "      <td>8.389015</td>\n",
       "      <td>0.030548</td>\n",
       "      <td>390.709679</td>\n",
       "      <td>2354.637033</td>\n",
       "      <td>99.809717</td>\n",
       "      <td>39.344972</td>\n",
       "      <td>22.863339</td>\n",
       "    </tr>\n",
       "    <tr>\n",
       "      <th>5</th>\n",
       "      <td>1</td>\n",
       "      <td>6</td>\n",
       "      <td>0.0</td>\n",
       "      <td>0.0006</td>\n",
       "      <td>100.0</td>\n",
       "      <td>510.128329</td>\n",
       "      <td>645.961849</td>\n",
       "      <td>1556.195751</td>\n",
       "      <td>1460.567187</td>\n",
       "      <td>14.632373</td>\n",
       "      <td>...</td>\n",
       "      <td>523.539737</td>\n",
       "      <td>2396.056916</td>\n",
       "      <td>8303.594008</td>\n",
       "      <td>8.274861</td>\n",
       "      <td>0.029662</td>\n",
       "      <td>397.120052</td>\n",
       "      <td>2394.269652</td>\n",
       "      <td>101.081109</td>\n",
       "      <td>38.949817</td>\n",
       "      <td>23.397582</td>\n",
       "    </tr>\n",
       "    <tr>\n",
       "      <th>6</th>\n",
       "      <td>1</td>\n",
       "      <td>7</td>\n",
       "      <td>0.0</td>\n",
       "      <td>0.0006</td>\n",
       "      <td>100.0</td>\n",
       "      <td>535.908271</td>\n",
       "      <td>658.431002</td>\n",
       "      <td>1517.511778</td>\n",
       "      <td>1448.461007</td>\n",
       "      <td>15.317956</td>\n",
       "      <td>...</td>\n",
       "      <td>523.813204</td>\n",
       "      <td>2457.096407</td>\n",
       "      <td>8112.381552</td>\n",
       "      <td>8.383373</td>\n",
       "      <td>0.030364</td>\n",
       "      <td>408.950869</td>\n",
       "      <td>2402.768905</td>\n",
       "      <td>99.623609</td>\n",
       "      <td>39.703856</td>\n",
       "      <td>23.862270</td>\n",
       "    </tr>\n",
       "    <tr>\n",
       "      <th>7</th>\n",
       "      <td>1</td>\n",
       "      <td>8</td>\n",
       "      <td>0.0</td>\n",
       "      <td>0.0006</td>\n",
       "      <td>100.0</td>\n",
       "      <td>511.506107</td>\n",
       "      <td>638.286261</td>\n",
       "      <td>1632.857125</td>\n",
       "      <td>1419.896974</td>\n",
       "      <td>13.974138</td>\n",
       "      <td>...</td>\n",
       "      <td>517.854524</td>\n",
       "      <td>2375.526266</td>\n",
       "      <td>8183.203924</td>\n",
       "      <td>8.527040</td>\n",
       "      <td>0.030194</td>\n",
       "      <td>397.977733</td>\n",
       "      <td>2393.441018</td>\n",
       "      <td>100.882985</td>\n",
       "      <td>39.812599</td>\n",
       "      <td>23.042440</td>\n",
       "    </tr>\n",
       "    <tr>\n",
       "      <th>8</th>\n",
       "      <td>1</td>\n",
       "      <td>9</td>\n",
       "      <td>0.0</td>\n",
       "      <td>0.0006</td>\n",
       "      <td>100.0</td>\n",
       "      <td>522.842078</td>\n",
       "      <td>646.944829</td>\n",
       "      <td>1628.302525</td>\n",
       "      <td>1402.469964</td>\n",
       "      <td>14.896764</td>\n",
       "      <td>...</td>\n",
       "      <td>516.342204</td>\n",
       "      <td>2401.804670</td>\n",
       "      <td>8123.995706</td>\n",
       "      <td>8.391034</td>\n",
       "      <td>0.029509</td>\n",
       "      <td>401.099949</td>\n",
       "      <td>2447.790367</td>\n",
       "      <td>101.423194</td>\n",
       "      <td>37.621882</td>\n",
       "      <td>24.621249</td>\n",
       "    </tr>\n",
       "    <tr>\n",
       "      <th>9</th>\n",
       "      <td>1</td>\n",
       "      <td>10</td>\n",
       "      <td>0.0</td>\n",
       "      <td>0.0006</td>\n",
       "      <td>100.0</td>\n",
       "      <td>523.577257</td>\n",
       "      <td>652.932422</td>\n",
       "      <td>1552.430797</td>\n",
       "      <td>1409.413794</td>\n",
       "      <td>14.836213</td>\n",
       "      <td>...</td>\n",
       "      <td>525.013136</td>\n",
       "      <td>2328.571435</td>\n",
       "      <td>8432.576493</td>\n",
       "      <td>8.541223</td>\n",
       "      <td>0.029126</td>\n",
       "      <td>392.650348</td>\n",
       "      <td>2419.202102</td>\n",
       "      <td>101.665325</td>\n",
       "      <td>39.014260</td>\n",
       "      <td>23.731727</td>\n",
       "    </tr>\n",
       "  </tbody>\n",
       "</table>\n",
       "<p>10 rows × 26 columns</p>\n",
       "</div>"
      ],
      "text/plain": [
       "   unit_id  time_cycles  op_setting_1  op_setting_2  op_setting_3    sensor_1  \\\n",
       "0        1            1           0.0        0.0006         100.0  513.300461   \n",
       "1        1            2           0.0        0.0006         100.0  518.259959   \n",
       "2        1            3           0.0        0.0006         100.0  510.274180   \n",
       "3        1            4           0.0        0.0006         100.0  522.524309   \n",
       "4        1            5           0.0        0.0006         100.0  523.448962   \n",
       "5        1            6           0.0        0.0006         100.0  510.128329   \n",
       "6        1            7           0.0        0.0006         100.0  535.908271   \n",
       "7        1            8           0.0        0.0006         100.0  511.506107   \n",
       "8        1            9           0.0        0.0006         100.0  522.842078   \n",
       "9        1           10           0.0        0.0006         100.0  523.577257   \n",
       "\n",
       "     sensor_2     sensor_3     sensor_4   sensor_5  ...   sensor_12  \\\n",
       "0  648.854883  1605.802692  1439.846460  14.361455  ...  520.335945   \n",
       "1  635.916470  1652.588172  1345.654400  14.966389  ...  528.246794   \n",
       "2  658.333410  1617.785491  1477.740459  14.725648  ...  517.325013   \n",
       "3  641.335165  1630.879698  1397.369855  14.433088  ...  513.278718   \n",
       "4  630.715586  1549.780948  1410.498894  14.707368  ...  513.393745   \n",
       "5  645.961849  1556.195751  1460.567187  14.632373  ...  523.539737   \n",
       "6  658.431002  1517.511778  1448.461007  15.317956  ...  523.813204   \n",
       "7  638.286261  1632.857125  1419.896974  13.974138  ...  517.854524   \n",
       "8  646.944829  1628.302525  1402.469964  14.896764  ...  516.342204   \n",
       "9  652.932422  1552.430797  1409.413794  14.836213  ...  525.013136   \n",
       "\n",
       "     sensor_13    sensor_14  sensor_15  sensor_16   sensor_17    sensor_18  \\\n",
       "0  2390.638728  8074.294916   8.335438   0.029949  393.996751  2352.878834   \n",
       "1  2357.489830  7924.945104   8.371021   0.029762  393.033897  2382.695379   \n",
       "2  2390.612878  8109.731997   8.172768   0.029581  400.062738  2425.042345   \n",
       "3  2431.703714  8059.766380   8.497520   0.029250  390.821087  2391.372693   \n",
       "4  2375.997697  7937.482568   8.389015   0.030548  390.709679  2354.637033   \n",
       "5  2396.056916  8303.594008   8.274861   0.029662  397.120052  2394.269652   \n",
       "6  2457.096407  8112.381552   8.383373   0.030364  408.950869  2402.768905   \n",
       "7  2375.526266  8183.203924   8.527040   0.030194  397.977733  2393.441018   \n",
       "8  2401.804670  8123.995706   8.391034   0.029509  401.099949  2447.790367   \n",
       "9  2328.571435  8432.576493   8.541223   0.029126  392.650348  2419.202102   \n",
       "\n",
       "    sensor_19  sensor_20  sensor_21  \n",
       "0  100.350147  38.858412  23.965575  \n",
       "1  102.532220  39.453483  23.369159  \n",
       "2  101.592533  39.070954  23.775021  \n",
       "3  102.183217  40.355889  23.752076  \n",
       "4   99.809717  39.344972  22.863339  \n",
       "5  101.081109  38.949817  23.397582  \n",
       "6   99.623609  39.703856  23.862270  \n",
       "7  100.882985  39.812599  23.042440  \n",
       "8  101.423194  37.621882  24.621249  \n",
       "9  101.665325  39.014260  23.731727  \n",
       "\n",
       "[10 rows x 26 columns]"
      ]
     },
     "execution_count": 3,
     "metadata": {},
     "output_type": "execute_result"
    }
   ],
   "source": [
    "# Show first few rows\n",
    "df.head(10)"
   ]
  },
  {
   "cell_type": "code",
   "execution_count": 4,
   "metadata": {},
   "outputs": [
    {
     "name": "stdout",
     "output_type": "stream",
     "text": [
      "Column Types:\n",
      "unit_id           int64\n",
      "time_cycles       int64\n",
      "op_setting_1    float64\n",
      "op_setting_2    float64\n",
      "op_setting_3    float64\n",
      "sensor_1        float64\n",
      "sensor_2        float64\n",
      "sensor_3        float64\n",
      "sensor_4        float64\n",
      "sensor_5        float64\n",
      "sensor_6        float64\n",
      "sensor_7        float64\n",
      "sensor_8        float64\n",
      "sensor_9        float64\n",
      "sensor_10       float64\n",
      "sensor_11       float64\n",
      "sensor_12       float64\n",
      "sensor_13       float64\n",
      "sensor_14       float64\n",
      "sensor_15       float64\n",
      "sensor_16       float64\n",
      "sensor_17       float64\n",
      "sensor_18       float64\n",
      "sensor_19       float64\n",
      "sensor_20       float64\n",
      "sensor_21       float64\n",
      "dtype: object\n"
     ]
    }
   ],
   "source": [
    "# Column types\n",
    "print('Column Types:')\n",
    "print(df.dtypes)"
   ]
  },
  {
   "cell_type": "code",
   "execution_count": 5,
   "metadata": {},
   "outputs": [
    {
     "name": "stdout",
     "output_type": "stream",
     "text": [
      "Sensor columns: 21\n",
      "Operational settings: 3\n",
      "\n",
      "Sensor columns: ['sensor_1', 'sensor_2', 'sensor_3', 'sensor_4', 'sensor_5', 'sensor_6', 'sensor_7', 'sensor_8', 'sensor_9', 'sensor_10', 'sensor_11', 'sensor_12', 'sensor_13', 'sensor_14', 'sensor_15', 'sensor_16', 'sensor_17', 'sensor_18', 'sensor_19', 'sensor_20', 'sensor_21']\n"
     ]
    }
   ],
   "source": [
    "# Identify column groups\n",
    "sensor_cols = [col for col in df.columns if col.startswith('sensor_')]\n",
    "op_setting_cols = [col for col in df.columns if col.startswith('op_setting')]\n",
    "\n",
    "print(f'Sensor columns: {len(sensor_cols)}')\n",
    "print(f'Operational settings: {len(op_setting_cols)}')\n",
    "print(f'\\nSensor columns: {sensor_cols}')"
   ]
  },
  {
   "cell_type": "markdown",
   "metadata": {},
   "source": [
    "## 3. Calculate RUL (Remaining Useful Life)"
   ]
  },
  {
   "cell_type": "code",
   "execution_count": 6,
   "metadata": {},
   "outputs": [
    {
     "name": "stdout",
     "output_type": "stream",
     "text": [
      "RUL calculated and added to dataframe\n",
      "\n",
      "RUL range: 0 to 354 cycles\n"
     ]
    }
   ],
   "source": [
    "# Calculate RUL\n",
    "df = calculate_rul(df)\n",
    "\n",
    "print('RUL calculated and added to dataframe')\n",
    "print(f'\\nRUL range: {df[\"RUL\"].min()} to {df[\"RUL\"].max()} cycles')"
   ]
  },
  {
   "cell_type": "code",
   "execution_count": 7,
   "metadata": {},
   "outputs": [
    {
     "name": "stdout",
     "output_type": "stream",
     "text": [
      "Engine 1 lifecycle:\n",
      "   unit_id  time_cycles  RUL\n",
      "0        1            1  229\n",
      "1        1            2  228\n",
      "2        1            3  227\n",
      "3        1            4  226\n",
      "4        1            5  225\n",
      "5        1            6  224\n",
      "6        1            7  223\n",
      "7        1            8  222\n",
      "8        1            9  221\n",
      "9        1           10  220\n",
      "...\n",
      "     unit_id  time_cycles  RUL\n",
      "220        1          221    9\n",
      "221        1          222    8\n",
      "222        1          223    7\n",
      "223        1          224    6\n",
      "224        1          225    5\n",
      "225        1          226    4\n",
      "226        1          227    3\n",
      "227        1          228    2\n",
      "228        1          229    1\n",
      "229        1          230    0\n"
     ]
    }
   ],
   "source": [
    "# Example: Show one engine's lifecycle\n",
    "engine_1 = df[df['unit_id'] == 1].sort_values('time_cycles')\n",
    "print(f'Engine 1 lifecycle:')\n",
    "print(engine_1[['unit_id', 'time_cycles', 'RUL']].head(10))\n",
    "print('...')\n",
    "print(engine_1[['unit_id', 'time_cycles', 'RUL']].tail(10))"
   ]
  },
  {
   "cell_type": "markdown",
   "metadata": {},
   "source": [
    "## 4. RUL Distribution Analysis"
   ]
  },
  {
   "cell_type": "code",
   "execution_count": 8,
   "metadata": {},
   "outputs": [
    {
     "name": "stdout",
     "output_type": "stream",
     "text": [
      "RUL Statistics:\n",
      "count    24453.000000\n",
      "mean       131.801088\n",
      "std         85.252525\n",
      "min          0.000000\n",
      "25%         61.000000\n",
      "50%        122.000000\n",
      "75%        195.000000\n",
      "max        354.000000\n",
      "Name: RUL, dtype: float64\n"
     ]
    }
   ],
   "source": [
    "# RUL statistics\n",
    "rul_stats = df['RUL'].describe()\n",
    "print('RUL Statistics:')\n",
    "print(rul_stats)"
   ]
  },
  {
   "cell_type": "code",
   "execution_count": 9,
   "metadata": {},
   "outputs": [
    {
     "data": {
      "image/png": "[encoded data removed]",
      "text/plain": [
       "<Figure size 1400x500 with 2 Axes>"
      ]
     },
     "metadata": {},
     "output_type": "display_data"
    },
    {
     "name": "stdout",
     "output_type": "stream",
     "text": [
      "✓ RUL distribution plots created\n"
     ]
    }
   ],
   "source": [
    "# Plot RUL distribution\n",
    "fig, axes = plt.subplots(1, 2, figsize=(14, 5))\n",
    "\n",
    "# Histogram\n",
    "axes[0].hist(df['RUL'], bins=50, edgecolor='black', alpha=0.7, color='steelblue')\n",
    "axes[0].axvline(df['RUL'].mean(), color='red', linestyle='--', linewidth=2, \n",
    "                label=f'Mean: {df[\"RUL\"].mean():.1f}')\n",
    "axes[0].axvline(df['RUL'].median(), color='green', linestyle='--', linewidth=2, \n",
    "                label=f'Median: {df[\"RUL\"].median():.1f}')\n",
    "axes[0].set_title('RUL Distribution', fontsize=14, fontweight='bold')\n",
    "axes[0].set_xlabel('Remaining Useful Life (cycles)')\n",
    "axes[0].set_ylabel('Frequency')\n",
    "axes[0].legend()\n",
    "axes[0].grid(True, alpha=0.3)\n",
    "\n",
    "# Box plot\n",
    "axes[1].boxplot(df['RUL'], vert=True)\n",
    "axes[1].set_title('RUL Box Plot', fontsize=14, fontweight='bold')\n",
    "axes[1].set_ylabel('Remaining Useful Life (cycles)')\n",
    "axes[1].grid(True, alpha=0.3, axis='y')\n",
    "\n",
    "plt.tight_layout()\n",
    "plt.savefig('/mnt/artifacts/epoch003-exploratory-data-analysis/01_rul_distribution.png', \n",
    "            dpi=150, bbox_inches='tight')\n",
    "plt.show()\n",
    "\n",
    "print('✓ RUL distribution plots created')"
   ]
  },
  {
   "cell_type": "markdown",
   "metadata": {},
   "source": [
    "## 5. Engine Lifetime Analysis"
   ]
  },
  {
   "cell_type": "code",
   "execution_count": 10,
   "metadata": {},
   "outputs": [
    {
     "name": "stdout",
     "output_type": "stream",
     "text": [
      "Engine Lifetime Statistics:\n",
      "count    100.000000\n",
      "mean     244.530000\n",
      "std       70.411841\n",
      "min      136.000000\n",
      "25%      176.750000\n",
      "50%      256.000000\n",
      "75%      304.750000\n",
      "max      355.000000\n",
      "Name: time_cycles, dtype: float64\n"
     ]
    }
   ],
   "source": [
    "# Calculate engine lifetimes (max cycles for each engine)\n",
    "engine_lifetimes = df.groupby('unit_id')['time_cycles'].max().sort_values()\n",
    "\n",
    "print('Engine Lifetime Statistics:')\n",
    "print(engine_lifetimes.describe())"
   ]
  },
  {
   "cell_type": "code",
   "execution_count": 11,
   "metadata": {},
   "outputs": [
    {
     "data": {
      "image/png": "[encoded data removed]",
      "text/plain": [
       "<Figure size 1400x500 with 2 Axes>"
      ]
     },
     "metadata": {},
     "output_type": "display_data"
    },
    {
     "name": "stdout",
     "output_type": "stream",
     "text": [
      "✓ Engine lifetime plots created\n"
     ]
    }
   ],
   "source": [
    "# Plot engine lifetimes\n",
    "fig, axes = plt.subplots(1, 2, figsize=(14, 5))\n",
    "\n",
    "# Histogram\n",
    "axes[0].hist(engine_lifetimes, bins=30, edgecolor='black', alpha=0.7, color='coral')\n",
    "axes[0].axvline(engine_lifetimes.mean(), color='red', linestyle='--', linewidth=2,\n",
    "                label=f'Mean: {engine_lifetimes.mean():.1f}')\n",
    "axes[0].set_title('Engine Lifetime Distribution', fontsize=14, fontweight='bold')\n",
    "axes[0].set_xlabel('Total Cycles to Failure')\n",
    "axes[0].set_ylabel('Number of Engines')\n",
    "axes[0].legend()\n",
    "axes[0].grid(True, alpha=0.3)\n",
    "\n",
    "# Sorted lifetimes\n",
    "axes[1].plot(range(len(engine_lifetimes)), engine_lifetimes.values, marker='o', \n",
    "             linestyle='-', markersize=3, color='coral')\n",
    "axes[1].set_title('Engine Lifetimes (Sorted)', fontsize=14, fontweight='bold')\n",
    "axes[1].set_xlabel('Engine Rank')\n",
    "axes[1].set_ylabel('Total Cycles to Failure')\n",
    "axes[1].grid(True, alpha=0.3)\n",
    "\n",
    "plt.tight_layout()\n",
    "plt.savefig('/mnt/artifacts/epoch003-exploratory-data-analysis/01_engine_lifetimes.png', \n",
    "            dpi=150, bbox_inches='tight')\n",
    "plt.show()\n",
    "\n",
    "print('✓ Engine lifetime plots created')"
   ]
  },
  {
   "cell_type": "markdown",
   "metadata": {},
   "source": [
    "## 6. Data Quality Check"
   ]
  },
  {
   "cell_type": "code",
   "execution_count": 12,
   "metadata": {},
   "outputs": [
    {
     "name": "stdout",
     "output_type": "stream",
     "text": [
      "Missing Values Summary:\n",
      "Empty DataFrame\n",
      "Columns: [Missing Count, Missing %]\n",
      "Index: []\n",
      "\n",
      "✓ No missing values detected!\n"
     ]
    }
   ],
   "source": [
    "# Missing values\n",
    "missing_counts = df.isnull().sum()\n",
    "missing_pct = (missing_counts / len(df) * 100).round(2)\n",
    "\n",
    "missing_df = pd.DataFrame({\n",
    "    'Missing Count': missing_counts,\n",
    "    'Missing %': missing_pct\n",
    "})\n",
    "\n",
    "print('Missing Values Summary:')\n",
    "print(missing_df[missing_df['Missing Count'] > 0])\n",
    "\n",
    "if missing_df['Missing Count'].sum() == 0:\n",
    "    print('\\n✓ No missing values detected!')"
   ]
  },
  {
   "cell_type": "code",
   "execution_count": 13,
   "metadata": {},
   "outputs": [
    {
     "name": "stdout",
     "output_type": "stream",
     "text": [
      "Duplicate rows: 0\n",
      "✓ No duplicate rows detected!\n"
     ]
    }
   ],
   "source": [
    "# Duplicates\n",
    "num_duplicates = df.duplicated().sum()\n",
    "print(f'Duplicate rows: {num_duplicates}')\n",
    "\n",
    "if num_duplicates == 0:\n",
    "    print('✓ No duplicate rows detected!')"
   ]
  },
  {
   "cell_type": "markdown",
   "metadata": {},
   "source": [
    "## 7. Summary\n",
    "\n",
    "### Key Findings:\n",
    "- Dataset contains 100 engines with complete run-to-failure data\n",
    "- Total of 24,453 timestep observations\n",
    "- 21 sensor measurements + 3 operational settings\n",
    "- RUL ranges from 0 to 354 cycles\n",
    "- Average engine lifetime: ~245 cycles\n",
    "- Data quality: 100% complete (no missing values)\n",
    "\n",
    "### Next Steps:\n",
    "- Analyze individual sensor distributions (Notebook 02)\n",
    "- Examine temporal degradation patterns (Notebook 03)\n",
    "- Study sensor correlations (Notebook 04)\n",
    "- Identify most predictive features (Notebook 05)"
   ]
  }
 ],
 "metadata": {
  "kernelspec": {
   "display_name": "Python 3 (ipykernel)",
   "language": "python",
   "name": "python3"
  },
  "language_info": {
   "codemirror_mode": {
    "name": "ipython",
    "version": 3
   },
   "file_extension": ".py",
   "mimetype": "text/x-python",
   "name": "python",
   "nbconvert_exporter": "python",
   "pygments_lexer": "ipython3",
   "version": "3.10.14"
  }
 },
 "nbformat": 4,
 "nbformat_minor": 4
}
